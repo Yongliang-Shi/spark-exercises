{
 "cells": [
  {
   "cell_type": "code",
   "execution_count": 43,
   "metadata": {},
   "outputs": [],
   "source": [
    "# Import libraries\n",
    "\n",
    "import pandas as pd\n",
    "import pyspark\n",
    "from pyspark.sql.functions import *\n",
    "from pydataset import data\n",
    "from vega_datasets import data\n",
    "\n",
    "import re\n",
    "\n",
    "# Create spark session\n",
    "spark = pyspark.sql.SparkSession.builder.getOrCreate()"
   ]
  },
  {
   "cell_type": "markdown",
   "metadata": {},
   "source": [
    "### 1. Create a spark data frame that contains your favorite programming languages.\n",
    "\n",
    "1. The name of the column should be language\n",
    "1. View the schema of the dataframe\n",
    "1. Output the shape of the dataframe\n",
    "1. Show the first 5 records in the dataframe"
   ]
  },
  {
   "cell_type": "code",
   "execution_count": 6,
   "metadata": {},
   "outputs": [
    {
     "name": "stdout",
     "output_type": "stream",
     "text": [
      "root\n",
      " |-- language: string (nullable = true)\n",
      "\n",
      "DataFrame shape: 10  x  1\n",
      "+----------+\n",
      "|  language|\n",
      "+----------+\n",
      "|    Python|\n",
      "|JavaScript|\n",
      "|      Java|\n",
      "|        C#|\n",
      "|         C|\n",
      "+----------+\n",
      "only showing top 5 rows\n",
      "\n"
     ]
    }
   ],
   "source": [
    "# Create a pandas dataframe first\n",
    "\n",
    "df = pd.DataFrame(['Python', 'JavaScript', 'Java', 'C#', 'C', 'C++', 'Go', 'R', 'Swift', 'PHP'], \n",
    "                  columns = ['language'])\n",
    "\n",
    "# Conver the pandas dataframe to spark dataframe\n",
    "df = spark.createDataFrame(df)\n",
    "\n",
    "# View the schema of the spark dataframe\n",
    "df.printSchema()\n",
    "\n",
    "# Output the shape of the dataframe\n",
    "print(\"DataFrame shape:\", df.count(), \" x \", len(df.columns))\n",
    "\n",
    "# Show the first 5 records in the dataframe\n",
    "df.show(5)"
   ]
  },
  {
   "cell_type": "markdown",
   "metadata": {},
   "source": [
    "### 2. Load the `mpg` dataset as a spark dataframe."
   ]
  },
  {
   "cell_type": "code",
   "execution_count": 8,
   "metadata": {},
   "outputs": [
    {
     "name": "stdout",
     "output_type": "stream",
     "text": [
      "root\n",
      " |-- manufacturer: string (nullable = true)\n",
      " |-- model: string (nullable = true)\n",
      " |-- displ: double (nullable = true)\n",
      " |-- year: long (nullable = true)\n",
      " |-- cyl: long (nullable = true)\n",
      " |-- trans: string (nullable = true)\n",
      " |-- drv: string (nullable = true)\n",
      " |-- cty: long (nullable = true)\n",
      " |-- hwy: long (nullable = true)\n",
      " |-- fl: string (nullable = true)\n",
      " |-- class: string (nullable = true)\n",
      "\n",
      "+------------+-----+-----+----+---+----------+---+---+---+---+-------+\n",
      "|manufacturer|model|displ|year|cyl|     trans|drv|cty|hwy| fl|  class|\n",
      "+------------+-----+-----+----+---+----------+---+---+---+---+-------+\n",
      "|        audi|   a4|  1.8|1999|  4|  auto(l5)|  f| 18| 29|  p|compact|\n",
      "|        audi|   a4|  1.8|1999|  4|manual(m5)|  f| 21| 29|  p|compact|\n",
      "|        audi|   a4|  2.0|2008|  4|manual(m6)|  f| 20| 31|  p|compact|\n",
      "+------------+-----+-----+----+---+----------+---+---+---+---+-------+\n",
      "only showing top 3 rows\n",
      "\n"
     ]
    }
   ],
   "source": [
    "# Load the mpg dataset as a spark dataframe\n",
    "mpg = spark.createDataFrame(data('mpg'))\n",
    "\n",
    "# Print the schema\n",
    "mpg.printSchema()\n",
    "\n",
    "# Print the first 3 rows\n",
    "mpg.show(3)"
   ]
  },
  {
   "cell_type": "markdown",
   "metadata": {},
   "source": [
    "### 2-a. Create 1 column of output that contains a message like the one below:\n",
    "`The 1999 audi a4 has a 4 cylinder engine.`"
   ]
  },
  {
   "cell_type": "code",
   "execution_count": 19,
   "metadata": {},
   "outputs": [
    {
     "name": "stdout",
     "output_type": "stream",
     "text": [
      "+----------------------------------------+\n",
      "|vehicle_cylinder_desc                   |\n",
      "+----------------------------------------+\n",
      "|The 1999 audi a4 has a 4 cylinder engine|\n",
      "|The 1999 audi a4 has a 4 cylinder engine|\n",
      "|The 2008 audi a4 has a 4 cylinder engine|\n",
      "|The 2008 audi a4 has a 4 cylinder engine|\n",
      "|The 1999 audi a4 has a 6 cylinder engine|\n",
      "+----------------------------------------+\n",
      "only showing top 5 rows\n",
      "\n"
     ]
    }
   ],
   "source": [
    "mpg.select(\n",
    "    concat(\n",
    "        lit(\"The \"), \n",
    "        mpg.year,\n",
    "        lit(\" \"), \n",
    "        mpg.manufacturer,\n",
    "        lit(\" \"), \n",
    "        mpg.model, \n",
    "        lit(\" has a \"), \n",
    "        mpg.cyl, \n",
    "        lit(\" cylinder engine\") \n",
    "    ).alias(\"vehicle_cylinder_desc\")\n",
    ").show(5, truncate=False)"
   ]
  },
  {
   "cell_type": "markdown",
   "metadata": {},
   "source": [
    "### 2-b. Transform the trans column so that it only contains either manual or auto.\n",
    "- This can be done in many ways:\n",
    "    - `regexp_extract`\n",
    "    - `regexp_replace`\n",
    "    - `when`"
   ]
  },
  {
   "cell_type": "code",
   "execution_count": 20,
   "metadata": {},
   "outputs": [
    {
     "name": "stdout",
     "output_type": "stream",
     "text": [
      "+----------+\n",
      "|     trans|\n",
      "+----------+\n",
      "|  auto(l5)|\n",
      "|manual(m5)|\n",
      "|manual(m6)|\n",
      "|  auto(av)|\n",
      "|  auto(l5)|\n",
      "+----------+\n",
      "only showing top 5 rows\n",
      "\n"
     ]
    }
   ],
   "source": [
    "mpg.select(col(\"trans\")).show(5)"
   ]
  },
  {
   "cell_type": "code",
   "execution_count": 45,
   "metadata": {},
   "outputs": [
    {
     "name": "stdout",
     "output_type": "stream",
     "text": [
      "+----------+------------+--------------+--------------+-----------+\n",
      "|     trans|transmission|regexp_extract|regexp_replace|when + like|\n",
      "+----------+------------+--------------+--------------+-----------+\n",
      "|  auto(l5)|        auto|          auto|          auto|       auto|\n",
      "|manual(m5)|      manual|        manual|        manual|     manual|\n",
      "|manual(m6)|      manual|        manual|        manual|     manual|\n",
      "|  auto(av)|        auto|          auto|          auto|       auto|\n",
      "|  auto(l5)|        auto|          auto|          auto|       auto|\n",
      "|manual(m5)|      manual|        manual|        manual|     manual|\n",
      "|  auto(av)|        auto|          auto|          auto|       auto|\n",
      "|manual(m5)|      manual|        manual|        manual|     manual|\n",
      "|  auto(l5)|        auto|          auto|          auto|       auto|\n",
      "|manual(m6)|      manual|        manual|        manual|     manual|\n",
      "|  auto(s6)|        auto|          auto|          auto|       auto|\n",
      "|  auto(l5)|        auto|          auto|          auto|       auto|\n",
      "|manual(m5)|      manual|        manual|        manual|     manual|\n",
      "|  auto(s6)|        auto|          auto|          auto|       auto|\n",
      "|manual(m6)|      manual|        manual|        manual|     manual|\n",
      "|  auto(l5)|        auto|          auto|          auto|       auto|\n",
      "|  auto(s6)|        auto|          auto|          auto|       auto|\n",
      "|  auto(s6)|        auto|          auto|          auto|       auto|\n",
      "|  auto(l4)|        auto|          auto|          auto|       auto|\n",
      "|  auto(l4)|        auto|          auto|          auto|       auto|\n",
      "+----------+------------+--------------+--------------+-----------+\n",
      "only showing top 20 rows\n",
      "\n"
     ]
    }
   ],
   "source": [
    "mpg.select(\n",
    "    col(\"trans\"), \n",
    "    regexp_extract(\"trans\", r\"^([a-z]*)\", 1).alias(\"transmission\"), \n",
    "    regexp_extract(\"trans\", r\"^(\\w+)\\(\", 1).alias(\"regexp_extract\"),\n",
    "    regexp_replace(\"trans\", r\"\\(.+$\", \"\").alias(\"regexp_replace\"),\n",
    "    when(mpg.trans.like(\"auto%\"), \"auto\") # Let us specify a value to produce under certain condition\n",
    "    .otherwise(\"manual\").alias(\"when + like\")\n",
    "    \n",
    ").show()"
   ]
  },
  {
   "cell_type": "code",
   "execution_count": 43,
   "metadata": {},
   "outputs": [],
   "source": [
    "import re\n",
    "\n",
    "def trans(string):\n",
    "    regexp = r'^(\\w+)\\('\n",
    "    return re.search(regexp, string)"
   ]
  },
  {
   "cell_type": "code",
   "execution_count": 44,
   "metadata": {},
   "outputs": [
    {
     "data": {
      "text/plain": [
       "<re.Match object; span=(0, 7), match='manual('>"
      ]
     },
     "execution_count": 44,
     "metadata": {},
     "output_type": "execute_result"
    }
   ],
   "source": [
    "trans(\"manual(m5)\")"
   ]
  },
  {
   "cell_type": "markdown",
   "metadata": {},
   "source": [
    "### Load the `tips` dataset as a spark dataframe"
   ]
  },
  {
   "cell_type": "code",
   "execution_count": 5,
   "metadata": {},
   "outputs": [
    {
     "name": "stdout",
     "output_type": "stream",
     "text": [
      "root\n",
      " |-- total_bill: double (nullable = true)\n",
      " |-- tip: double (nullable = true)\n",
      " |-- sex: string (nullable = true)\n",
      " |-- smoker: string (nullable = true)\n",
      " |-- day: string (nullable = true)\n",
      " |-- time: string (nullable = true)\n",
      " |-- size: long (nullable = true)\n",
      "\n",
      "+----------+----+------+------+---+------+----+\n",
      "|total_bill| tip|   sex|smoker|day|  time|size|\n",
      "+----------+----+------+------+---+------+----+\n",
      "|     16.99|1.01|Female|    No|Sun|Dinner|   2|\n",
      "|     10.34|1.66|  Male|    No|Sun|Dinner|   3|\n",
      "|     21.01| 3.5|  Male|    No|Sun|Dinner|   3|\n",
      "|     23.68|3.31|  Male|    No|Sun|Dinner|   2|\n",
      "|     24.59|3.61|Female|    No|Sun|Dinner|   4|\n",
      "+----------+----+------+------+---+------+----+\n",
      "only showing top 5 rows\n",
      "\n"
     ]
    }
   ],
   "source": [
    "# Load the tips dataset as a spark dataframe\n",
    "\n",
    "tips = spark.createDataFrame(data('tips'))\n",
    "\n",
    "# Print the schema\n",
    "tips.printSchema()\n",
    "\n",
    "# Print the first 5 rows\n",
    "tips.show(5)"
   ]
  },
  {
   "cell_type": "markdown",
   "metadata": {},
   "source": [
    "### 3-a. What percentage of observations are smokers?"
   ]
  },
  {
   "cell_type": "code",
   "execution_count": 39,
   "metadata": {},
   "outputs": [
    {
     "name": "stdout",
     "output_type": "stream",
     "text": [
      "+------+----------+\n",
      "|smoker|percentage|\n",
      "+------+----------+\n",
      "|  null|      100%|\n",
      "|    No|       62%|\n",
      "|   Yes|       38%|\n",
      "+------+----------+\n",
      "\n"
     ]
    }
   ],
   "source": [
    "# Use roll up\n",
    "\n",
    "(\n",
    "    tips.rollup('smoker')\n",
    "        .count()\n",
    "        .sort('smoker')\n",
    "        .select(\n",
    "            col(\"smoker\"),\n",
    "            (concat(\n",
    "                round(col(\"count\")/244*100, 0).cast(\"int\"), \n",
    "                lit(\"%\")).alias(\"percentage\")\n",
    "            )\n",
    "        )\n",
    ").show()"
   ]
  },
  {
   "cell_type": "code",
   "execution_count": 35,
   "metadata": {},
   "outputs": [
    {
     "name": "stdout",
     "output_type": "stream",
     "text": [
      "+------+-----+----------+\n",
      "|smoker|count|percentage|\n",
      "+------+-----+----------+\n",
      "|    No|  151|       62%|\n",
      "|   Yes|   93|       38%|\n",
      "+------+-----+----------+\n",
      "\n"
     ]
    }
   ],
   "source": [
    "# Use groupby\n",
    "\n",
    "(\n",
    "    tips.groupby(\"smoker\")\n",
    "        .count()\n",
    "        .withColumn(\n",
    "            \"percentage\", # Add a new column named 'percentage'\n",
    "            concat(\n",
    "                round(col(\"count\") / tips.count() * 100, 0).cast(\"int\"),\n",
    "                lit(\"%\")\n",
    "            )\n",
    "        )\n",
    ").show()"
   ]
  },
  {
   "cell_type": "markdown",
   "metadata": {},
   "source": [
    "### 3-b. Create a column that contains the tip percentage"
   ]
  },
  {
   "cell_type": "code",
   "execution_count": 23,
   "metadata": {
    "scrolled": true
   },
   "outputs": [
    {
     "name": "stdout",
     "output_type": "stream",
     "text": [
      "+----------+----+-------------------+\n",
      "|total_bill| tip|         percentage|\n",
      "+----------+----+-------------------+\n",
      "|     16.99|1.01|0.05944673337257211|\n",
      "|     10.34|1.66|0.16054158607350097|\n",
      "|     21.01| 3.5|0.16658733936220846|\n",
      "|     23.68|3.31| 0.1397804054054054|\n",
      "|     24.59|3.61|0.14680764538430255|\n",
      "+----------+----+-------------------+\n",
      "only showing top 5 rows\n",
      "\n"
     ]
    }
   ],
   "source": [
    "tips.select(\n",
    "    tips.total_bill, \n",
    "    tips.tip,\n",
    "    (tips.tip/tips.total_bill).alias(\"percentage\")\n",
    ").show(5)"
   ]
  },
  {
   "cell_type": "code",
   "execution_count": 40,
   "metadata": {},
   "outputs": [
    {
     "name": "stdout",
     "output_type": "stream",
     "text": [
      "+----------+----+------+------+---+------+----+-------------------+\n",
      "|total_bill| tip|   sex|smoker|day|  time|size|     tip_percentage|\n",
      "+----------+----+------+------+---+------+----+-------------------+\n",
      "|     16.99|1.01|Female|    No|Sun|Dinner|   2|0.05944673337257211|\n",
      "|     10.34|1.66|  Male|    No|Sun|Dinner|   3|0.16054158607350097|\n",
      "|     21.01| 3.5|  Male|    No|Sun|Dinner|   3|0.16658733936220846|\n",
      "|     23.68|3.31|  Male|    No|Sun|Dinner|   2| 0.1397804054054054|\n",
      "|     24.59|3.61|Female|    No|Sun|Dinner|   4|0.14680764538430255|\n",
      "+----------+----+------+------+---+------+----+-------------------+\n",
      "only showing top 5 rows\n",
      "\n"
     ]
    }
   ],
   "source": [
    "tips.withColumn(\n",
    "    \"tip_percentage\",\n",
    "    col(\"tip\") / col(\"total_bill\")\n",
    ").show(5)"
   ]
  },
  {
   "cell_type": "markdown",
   "metadata": {},
   "source": [
    "### 3-c. Calculate the average tip percentage for each combination of sex and smoker."
   ]
  },
  {
   "cell_type": "code",
   "execution_count": 32,
   "metadata": {},
   "outputs": [
    {
     "name": "stdout",
     "output_type": "stream",
     "text": [
      "+------+------+-------------------+\n",
      "|   sex|smoker|         percentage|\n",
      "+------+------+-------------------+\n",
      "|  Male|    No| 0.1606687151291298|\n",
      "|  Male|   Yes|0.15277117520248512|\n",
      "|Female|    No| 0.1569209707691836|\n",
      "|Female|   Yes|0.18215035269941032|\n",
      "+------+------+-------------------+\n",
      "\n"
     ]
    }
   ],
   "source": [
    "# groupby alone\n",
    "\n",
    "(\n",
    "    tips.groupby(tips.sex, tips.smoker)\n",
    "        .agg((mean(col(\"tip\")/col(\"total_bill\")).alias(\"percentage\")))\n",
    ").show()"
   ]
  },
  {
   "cell_type": "code",
   "execution_count": 42,
   "metadata": {},
   "outputs": [
    {
     "name": "stdout",
     "output_type": "stream",
     "text": [
      "+------+------------------+-------------------+\n",
      "|   sex|                No|                Yes|\n",
      "+------+------------------+-------------------+\n",
      "|Female|0.1569209707691836|0.18215035269941032|\n",
      "|  Male|0.1606687151291298|0.15277117520248512|\n",
      "+------+------------------+-------------------+\n",
      "\n"
     ]
    }
   ],
   "source": [
    "# Groupby + pivot\n",
    "\n",
    "(\n",
    "    tips.withColumn(\"tip_percentage\", tips.tip/tips.total_bill)\n",
    "    .groupby('sex')\n",
    "    .pivot(\"smoker\")\n",
    "    .agg(mean(\"tip_percentage\"))\n",
    ").show(5)"
   ]
  },
  {
   "cell_type": "markdown",
   "metadata": {},
   "source": [
    "### 4. Use the seattle weather dataset referenced in the lesson to answer the questions below."
   ]
  },
  {
   "cell_type": "code",
   "execution_count": 44,
   "metadata": {},
   "outputs": [
    {
     "name": "stdout",
     "output_type": "stream",
     "text": [
      "root\n",
      " |-- date: timestamp (nullable = true)\n",
      " |-- precipitation: double (nullable = true)\n",
      " |-- temp_max: double (nullable = true)\n",
      " |-- temp_min: double (nullable = true)\n",
      " |-- wind: double (nullable = true)\n",
      " |-- weather: string (nullable = true)\n",
      "\n",
      "+-------------------+-------------+--------+--------+----+-------+\n",
      "|               date|precipitation|temp_max|temp_min|wind|weather|\n",
      "+-------------------+-------------+--------+--------+----+-------+\n",
      "|2012-01-01 00:00:00|          0.0|    12.8|     5.0| 4.7|drizzle|\n",
      "|2012-01-02 00:00:00|         10.9|    10.6|     2.8| 4.5|   rain|\n",
      "|2012-01-03 00:00:00|          0.8|    11.7|     7.2| 2.3|   rain|\n",
      "|2012-01-04 00:00:00|         20.3|    12.2|     5.6| 4.7|   rain|\n",
      "|2012-01-05 00:00:00|          1.3|     8.9|     2.8| 6.1|   rain|\n",
      "+-------------------+-------------+--------+--------+----+-------+\n",
      "only showing top 5 rows\n",
      "\n"
     ]
    }
   ],
   "source": [
    "# Load the seattle weather dataset in a pyspark dataframe\n",
    "weather = spark.createDataFrame(data.seattle_weather())\n",
    "\n",
    "# Print the Schema\n",
    "weather.printSchema()\n",
    "\n",
    "# Print the first 5 rows\n",
    "weather.show(5)"
   ]
  },
  {
   "cell_type": "markdown",
   "metadata": {},
   "source": [
    "### 4-a. Convert the temperatures to farenheight."
   ]
  },
  {
   "cell_type": "code",
   "execution_count": 48,
   "metadata": {},
   "outputs": [
    {
     "name": "stdout",
     "output_type": "stream",
     "text": [
      "+-------------------+-------------+--------+--------+----+-------+----------+----------+\n",
      "|               date|precipitation|temp_max|temp_min|wind|weather|temp_max_f|temp_min_f|\n",
      "+-------------------+-------------+--------+--------+----+-------+----------+----------+\n",
      "|2012-01-01 00:00:00|          0.0|    12.8|     5.0| 4.7|drizzle|     55.04|      41.0|\n",
      "|2012-01-02 00:00:00|         10.9|    10.6|     2.8| 4.5|   rain|     51.08|     37.04|\n",
      "|2012-01-03 00:00:00|          0.8|    11.7|     7.2| 2.3|   rain|     53.06|     44.96|\n",
      "|2012-01-04 00:00:00|         20.3|    12.2|     5.6| 4.7|   rain|     53.96|     42.08|\n",
      "|2012-01-05 00:00:00|          1.3|     8.9|     2.8| 6.1|   rain|     48.02|     37.04|\n",
      "+-------------------+-------------+--------+--------+----+-------+----------+----------+\n",
      "only showing top 5 rows\n",
      "\n"
     ]
    }
   ],
   "source": [
    "# Chain the .withColumn() methods to convert max and min temparature to farenheight\n",
    "\n",
    "(\n",
    "    weather.withColumn(\"temp_max_f\", weather.temp_max*9/5+32)\n",
    "    .withColumn(\"temp_min_f\", weather.temp_min*9/5+32)\n",
    ").show(5)"
   ]
  },
  {
   "cell_type": "code",
   "execution_count": 109,
   "metadata": {},
   "outputs": [
    {
     "name": "stdout",
     "output_type": "stream",
     "text": [
      "+-------------------+-------------+--------+--------+----+-------+\n",
      "|               date|precipitation|temp_max|temp_min|wind|weather|\n",
      "+-------------------+-------------+--------+--------+----+-------+\n",
      "|2012-01-01 00:00:00|          0.0|   55.04|    41.0| 4.7|drizzle|\n",
      "|2012-01-02 00:00:00|         10.9|   51.08|   37.04| 4.5|   rain|\n",
      "|2012-01-03 00:00:00|          0.8|   53.06|   44.96| 2.3|   rain|\n",
      "|2012-01-04 00:00:00|         20.3|   53.96|   42.08| 4.7|   rain|\n",
      "|2012-01-05 00:00:00|          1.3|   48.02|   37.04| 6.1|   rain|\n",
      "+-------------------+-------------+--------+--------+----+-------+\n",
      "only showing top 5 rows\n",
      "\n"
     ]
    }
   ],
   "source": [
    "# The question is to convert NOT to add new columns\n",
    "\n",
    "(\n",
    "    weather.withColumn(\"temp_max\", weather.temp_max*9/5+32)\n",
    "    .withColumn(\"temp_min\", weather.temp_min*9/5+32)\n",
    ").show(5)"
   ]
  },
  {
   "cell_type": "markdown",
   "metadata": {},
   "source": [
    "### 4-b. Which month has the most rain, on average?"
   ]
  },
  {
   "cell_type": "code",
   "execution_count": 122,
   "metadata": {},
   "outputs": [
    {
     "name": "stdout",
     "output_type": "stream",
     "text": [
      "+-----+--------------------+\n",
      "|month|average_rain_per_day|\n",
      "+-----+--------------------+\n",
      "|   11|   5.354166666666667|\n",
      "|   12|   5.021774193548389|\n",
      "|    3|   4.888709677419355|\n",
      "|   10|   4.059677419354839|\n",
      "|    1|  3.7580645161290316|\n",
      "|    2|   3.734513274336283|\n",
      "|    4|   3.128333333333333|\n",
      "|    9|  1.9624999999999997|\n",
      "|    5|  1.6733870967741935|\n",
      "|    8|  1.3201612903225806|\n",
      "|    6|  1.1075000000000002|\n",
      "|    7| 0.38870967741935486|\n",
      "+-----+--------------------+\n",
      "\n"
     ]
    }
   ],
   "source": [
    "(\n",
    "    weather.withColumn(\"month\", month(\"date\"))\n",
    "    .groupby(\"month\")\n",
    "    .agg(mean(weather.precipitation).alias(\"average_rain_per_day\"))\n",
    "    .sort(col(\"average_rain_per_day\").desc())\n",
    ").show()"
   ]
  },
  {
   "cell_type": "code",
   "execution_count": 118,
   "metadata": {},
   "outputs": [
    {
     "name": "stdout",
     "output_type": "stream",
     "text": [
      "+-----------+----------------+\n",
      "|month(date)|avg_monthly_rain|\n",
      "+-----------+----------------+\n",
      "|         11|         160.625|\n",
      "+-----------+----------------+\n",
      "only showing top 1 row\n",
      "\n"
     ]
    }
   ],
   "source": [
    "(\n",
    "    weather.groupby(month(\"date\"), year(\"date\"))\n",
    "    .agg(sum(\"precipitation\").alias(\"total_monthly_precipitation\"))\n",
    "    .groupby(\"month(date)\")\n",
    "    .agg(mean(\"total_monthly_precipitation\").alias(\"avg_monthly_rain\"))\n",
    "    .sort(col(\"avg_monthly_rain\").desc())\n",
    ").show(1)"
   ]
  },
  {
   "cell_type": "markdown",
   "metadata": {},
   "source": [
    "### 4-c. Which year was the windiest?"
   ]
  },
  {
   "cell_type": "code",
   "execution_count": 64,
   "metadata": {},
   "outputs": [
    {
     "name": "stdout",
     "output_type": "stream",
     "text": [
      "+----+------------------+\n",
      "|year|          avg_wind|\n",
      "+----+------------------+\n",
      "|2012| 3.400819672131148|\n",
      "|2014| 3.387671232876714|\n",
      "|2015| 3.159726027397261|\n",
      "|2013|3.0158904109589058|\n",
      "+----+------------------+\n",
      "\n"
     ]
    }
   ],
   "source": [
    "(\n",
    "    weather.withColumn(\"year\", year(\"date\"))\n",
    "    .groupby(\"year\")\n",
    "    .agg((mean(weather.wind)).alias(\"avg_wind\"))\n",
    "    .sort(col(\"avg_wind\").desc())\n",
    ").show()"
   ]
  },
  {
   "cell_type": "code",
   "execution_count": 123,
   "metadata": {},
   "outputs": [
    {
     "name": "stdout",
     "output_type": "stream",
     "text": [
      "+----+------------------+\n",
      "|year|        total_wind|\n",
      "+----+------------------+\n",
      "|2012|            1244.7|\n",
      "|2014|1236.5000000000007|\n",
      "|2015|1153.3000000000002|\n",
      "|2013|1100.8000000000006|\n",
      "+----+------------------+\n",
      "\n"
     ]
    }
   ],
   "source": [
    "(\n",
    "    weather.withColumn(\"year\", year(\"date\"))\n",
    "    .groupby(\"year\")\n",
    "    .agg((sum(weather.wind)).alias(\"total_wind\"))\n",
    "    .sort(col(\"total_wind\").desc())\n",
    ").show()"
   ]
  },
  {
   "cell_type": "markdown",
   "metadata": {},
   "source": [
    "### 4-d. What is the most frequent type of weather in January?"
   ]
  },
  {
   "cell_type": "code",
   "execution_count": 66,
   "metadata": {},
   "outputs": [
    {
     "name": "stdout",
     "output_type": "stream",
     "text": [
      "+-------+-----+\n",
      "|weather|count|\n",
      "+-------+-----+\n",
      "|    fog|  411|\n",
      "|drizzle|   54|\n",
      "|   rain|  259|\n",
      "|    sun|  714|\n",
      "|   snow|   23|\n",
      "+-------+-----+\n",
      "\n"
     ]
    }
   ],
   "source": [
    "weather.groupby(\"weather\").count().show()"
   ]
  },
  {
   "cell_type": "code",
   "execution_count": 72,
   "metadata": {
    "scrolled": true
   },
   "outputs": [
    {
     "name": "stdout",
     "output_type": "stream",
     "text": [
      "+-----+-------+-----+\n",
      "|month|weather|count|\n",
      "+-----+-------+-----+\n",
      "|    1|    fog|   38|\n",
      "|    1|   rain|   35|\n",
      "|    1|    sun|   33|\n",
      "|    1|drizzle|   10|\n",
      "|    1|   snow|    8|\n",
      "+-----+-------+-----+\n",
      "\n"
     ]
    }
   ],
   "source": [
    "(\n",
    "    weather.withColumn(\"month\", month(\"date\"))\n",
    "    .filter(col(\"month\") == 1)\n",
    "    .groupby(\"month\", \"weather\") # No need to groupby \"month\"\n",
    "    .count()\n",
    "    .sort(col(\"count\").desc())\n",
    ").show()"
   ]
  },
  {
   "cell_type": "code",
   "execution_count": 124,
   "metadata": {},
   "outputs": [
    {
     "name": "stdout",
     "output_type": "stream",
     "text": [
      "+-------+-----+\n",
      "|weather|count|\n",
      "+-------+-----+\n",
      "|    fog|   38|\n",
      "|   rain|   35|\n",
      "|    sun|   33|\n",
      "|drizzle|   10|\n",
      "|   snow|    8|\n",
      "+-------+-----+\n",
      "\n"
     ]
    }
   ],
   "source": [
    "(\n",
    "    weather.withColumn(\"month\", month(\"date\"))\n",
    "    .filter(col(\"month\") == 1)\n",
    "    .groupby(\"weather\")\n",
    "    .count()\n",
    "    .sort(col(\"count\").desc())\n",
    ").show()"
   ]
  },
  {
   "cell_type": "markdown",
   "metadata": {},
   "source": [
    "### 4-e. What is the average high and low temperature on sunny days in July in 2013 and 2014?\n",
    "- Conditions: sunny days, 2013 and 2014\n",
    "- aggregation: high, low"
   ]
  },
  {
   "cell_type": "code",
   "execution_count": 82,
   "metadata": {},
   "outputs": [
    {
     "name": "stdout",
     "output_type": "stream",
     "text": [
      "+------------------+-----------------+\n",
      "|      average_high|      average_low|\n",
      "+------------------+-----------------+\n",
      "|26.828846153846158|14.18269230769231|\n",
      "+------------------+-----------------+\n",
      "\n"
     ]
    }
   ],
   "source": [
    "(\n",
    "    weather.filter(year(\"date\") > 2012) # pyspark df doesn't support &, |\n",
    "    .filter(year(\"date\") < 2015)\n",
    "    .filter(col(\"weather\") == 'sun')\n",
    "    .filter(month(\"date\") == 7)\n",
    "    .agg(\n",
    "        mean(weather.temp_max).alias(\"average_high\"), # You can use avg\n",
    "        mean(weather.temp_min).alias(\"average_low\") # You can use avg\n",
    "    )\n",
    ").show()"
   ]
  },
  {
   "cell_type": "markdown",
   "metadata": {},
   "source": [
    "### 4-f. What percentage of days were rainy in q3 of 2015?\n",
    "- Condition: q3 in 2015"
   ]
  },
  {
   "cell_type": "code",
   "execution_count": 98,
   "metadata": {},
   "outputs": [
    {
     "name": "stdout",
     "output_type": "stream",
     "text": [
      "+-------+-----+----------+\n",
      "|weather|count|percentage|\n",
      "+-------+-----+----------+\n",
      "|   null|   92|     100.0|\n",
      "|    fog|   21|      23.0|\n",
      "|    sun|   64|      70.0|\n",
      "|   rain|    2|       2.0|\n",
      "|drizzle|    5|       5.0|\n",
      "+-------+-----+----------+\n",
      "\n"
     ]
    }
   ],
   "source": [
    "(\n",
    "    weather.filter(year(\"date\") == 2015)\n",
    "    .filter(quarter(\"date\") == 3)\n",
    "    .rollup(\"weather\") # Run the code to find out the total count of the days\n",
    "    .count()\n",
    "    .withColumn(\n",
    "        \"percentage\",\n",
    "        round(col(\"count\")/92*100,0)\n",
    "    )\n",
    ").show()"
   ]
  },
  {
   "cell_type": "code",
   "execution_count": 141,
   "metadata": {},
   "outputs": [
    {
     "name": "stdout",
     "output_type": "stream",
     "text": [
      "+--------------------+\n",
      "|           avg(rain)|\n",
      "+--------------------+\n",
      "|0.021739130434782608|\n",
      "+--------------------+\n",
      "\n"
     ]
    }
   ],
   "source": [
    "# Take the advange of 0 and 1\n",
    "\n",
    "(\n",
    "    weather.filter(year(\"date\") == 2015)\n",
    "    .filter(quarter(\"date\") == 3)\n",
    "    .select(\n",
    "        when(col(\"weather\") == \"rain\", 1).otherwise(0).alias(\"rain\")\n",
    "        )\n",
    "    .agg(mean(\"rain\"))\n",
    ").show()"
   ]
  },
  {
   "cell_type": "markdown",
   "metadata": {},
   "source": [
    "### 4-g. For each year, find what percentage of days it rained (had non-zero precipitation).\n",
    "- Has all the data processed before groupby. "
   ]
  },
  {
   "cell_type": "code",
   "execution_count": 146,
   "metadata": {},
   "outputs": [
    {
     "name": "stdout",
     "output_type": "stream",
     "text": [
      "+----------+-------------------+\n",
      "|year(date)|   avg(rained_days)|\n",
      "+----------+-------------------+\n",
      "|      2012|0.48360655737704916|\n",
      "|      2013|0.41643835616438357|\n",
      "|      2014|  0.410958904109589|\n",
      "|      2015|0.39452054794520547|\n",
      "+----------+-------------------+\n",
      "\n"
     ]
    }
   ],
   "source": [
    "(\n",
    "    weather.withColumn(\n",
    "        \"rained_days\", \n",
    "        when(weather.precipitation != 0, 1).otherwise(0) # Add a new column\n",
    "    )\n",
    "    .groupby(year(\"date\")) # How to rename the columns\n",
    "    .agg(mean(\"rained_days\"))\n",
    "    .sort(\"year(date)\")\n",
    ").show()"
   ]
  },
  {
   "cell_type": "code",
   "execution_count": 151,
   "metadata": {},
   "outputs": [
    {
     "name": "stdout",
     "output_type": "stream",
     "text": [
      "+----+-------------------+\n",
      "|year|          avg(rain)|\n",
      "+----+-------------------+\n",
      "|2015|0.39452054794520547|\n",
      "|2013|0.41643835616438357|\n",
      "|2014|  0.410958904109589|\n",
      "|2012|0.48360655737704916|\n",
      "+----+-------------------+\n",
      "\n"
     ]
    }
   ],
   "source": [
    "# A different approach\n",
    "\n",
    "(\n",
    "    weather.withColumn(\"year\", year(\"date\")) # Add a new column\n",
    "    .select(   # Select the columns I needed to answer the question\n",
    "        \"year\", \n",
    "        when(col(\"precipitation\") > 0, 1).otherwise(0).alias(\"rain\") # A new column\n",
    "    )\n",
    "    .groupby('year')\n",
    "    .agg(avg(\"rain\"))\n",
    ").show()"
   ]
  },
  {
   "cell_type": "markdown",
   "metadata": {},
   "source": [
    "### Sidebar: How to get values out of a spark dataframe\n",
    "- `.show()` -- shows the information, but doesn't produce a value that can be stored in a variable\n",
    "- `.first()` -- produce the first result as a Row object\n",
    "- `.head(n)` -- produces a list of the first n Row objects"
   ]
  }
 ],
 "metadata": {
  "kernelspec": {
   "display_name": "Python 3",
   "language": "python",
   "name": "python3"
  },
  "language_info": {
   "codemirror_mode": {
    "name": "ipython",
    "version": 3
   },
   "file_extension": ".py",
   "mimetype": "text/x-python",
   "name": "python",
   "nbconvert_exporter": "python",
   "pygments_lexer": "ipython3",
   "version": "3.7.6"
  }
 },
 "nbformat": 4,
 "nbformat_minor": 4
}
