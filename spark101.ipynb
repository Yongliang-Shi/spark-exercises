{
 "cells": [
  {
   "cell_type": "code",
   "execution_count": 2,
   "metadata": {},
   "outputs": [],
   "source": [
    "# Import libraries\n",
    "\n",
    "import pandas as pd\n",
    "import pyspark\n",
    "from pyspark.sql.functions import *\n",
    "from pydataset import data\n",
    "\n",
    "import re\n",
    "\n",
    "# Create spark session\n",
    "spark = pyspark.sql.SparkSession.builder.getOrCreate()"
   ]
  },
  {
   "cell_type": "markdown",
   "metadata": {},
   "source": [
    "### 1. Create a spark data frame that contains your favorite programming languages.\n",
    "\n",
    "1. The name of the column should be language\n",
    "1. View the schema of the dataframe\n",
    "1. Output the shape of the dataframe\n",
    "1. Show the first 5 records in the dataframe"
   ]
  },
  {
   "cell_type": "code",
   "execution_count": 6,
   "metadata": {},
   "outputs": [
    {
     "name": "stdout",
     "output_type": "stream",
     "text": [
      "root\n",
      " |-- language: string (nullable = true)\n",
      "\n",
      "DataFrame shape: 10  x  1\n",
      "+----------+\n",
      "|  language|\n",
      "+----------+\n",
      "|    Python|\n",
      "|JavaScript|\n",
      "|      Java|\n",
      "|        C#|\n",
      "|         C|\n",
      "+----------+\n",
      "only showing top 5 rows\n",
      "\n"
     ]
    }
   ],
   "source": [
    "# Create a pandas dataframe first\n",
    "\n",
    "df = pd.DataFrame(['Python', 'JavaScript', 'Java', 'C#', 'C', 'C++', 'Go', 'R', 'Swift', 'PHP'], \n",
    "                  columns = ['language'])\n",
    "\n",
    "# Conver the pandas dataframe to spark dataframe\n",
    "df = spark.createDataFrame(df)\n",
    "\n",
    "# View the schema of the spark dataframe\n",
    "df.printSchema()\n",
    "\n",
    "# Output the shape of the dataframe\n",
    "print(\"DataFrame shape:\", df.count(), \" x \", len(df.columns))\n",
    "\n",
    "# Show the first 5 records in the dataframe\n",
    "df.show(5)"
   ]
  },
  {
   "cell_type": "markdown",
   "metadata": {},
   "source": [
    "### 2. Load the `mpg` dataset as a spark dataframe."
   ]
  },
  {
   "cell_type": "code",
   "execution_count": 8,
   "metadata": {},
   "outputs": [
    {
     "name": "stdout",
     "output_type": "stream",
     "text": [
      "root\n",
      " |-- manufacturer: string (nullable = true)\n",
      " |-- model: string (nullable = true)\n",
      " |-- displ: double (nullable = true)\n",
      " |-- year: long (nullable = true)\n",
      " |-- cyl: long (nullable = true)\n",
      " |-- trans: string (nullable = true)\n",
      " |-- drv: string (nullable = true)\n",
      " |-- cty: long (nullable = true)\n",
      " |-- hwy: long (nullable = true)\n",
      " |-- fl: string (nullable = true)\n",
      " |-- class: string (nullable = true)\n",
      "\n",
      "+------------+-----+-----+----+---+----------+---+---+---+---+-------+\n",
      "|manufacturer|model|displ|year|cyl|     trans|drv|cty|hwy| fl|  class|\n",
      "+------------+-----+-----+----+---+----------+---+---+---+---+-------+\n",
      "|        audi|   a4|  1.8|1999|  4|  auto(l5)|  f| 18| 29|  p|compact|\n",
      "|        audi|   a4|  1.8|1999|  4|manual(m5)|  f| 21| 29|  p|compact|\n",
      "|        audi|   a4|  2.0|2008|  4|manual(m6)|  f| 20| 31|  p|compact|\n",
      "+------------+-----+-----+----+---+----------+---+---+---+---+-------+\n",
      "only showing top 3 rows\n",
      "\n"
     ]
    }
   ],
   "source": [
    "# Load the mpg dataset as a spark dataframe\n",
    "mpg = spark.createDataFrame(data('mpg'))\n",
    "\n",
    "# Print the schema\n",
    "mpg.printSchema()\n",
    "\n",
    "# Print the first 3 rows\n",
    "mpg.show(3)"
   ]
  },
  {
   "cell_type": "markdown",
   "metadata": {},
   "source": [
    "### 2-a. Create 1 column of output that contains a message like the one below:\n",
    "`The 1999 audi a4 has a 4 cylinder engine.`"
   ]
  },
  {
   "cell_type": "code",
   "execution_count": 19,
   "metadata": {},
   "outputs": [
    {
     "name": "stdout",
     "output_type": "stream",
     "text": [
      "+----------------------------------------+\n",
      "|vehicle_cylinder_desc                   |\n",
      "+----------------------------------------+\n",
      "|The 1999 audi a4 has a 4 cylinder engine|\n",
      "|The 1999 audi a4 has a 4 cylinder engine|\n",
      "|The 2008 audi a4 has a 4 cylinder engine|\n",
      "|The 2008 audi a4 has a 4 cylinder engine|\n",
      "|The 1999 audi a4 has a 6 cylinder engine|\n",
      "+----------------------------------------+\n",
      "only showing top 5 rows\n",
      "\n"
     ]
    }
   ],
   "source": [
    "mpg.select(\n",
    "    concat(\n",
    "        lit(\"The \"), \n",
    "        mpg.year,\n",
    "        lit(\" \"), \n",
    "        mpg.manufacturer,\n",
    "        lit(\" \"), \n",
    "        mpg.model, \n",
    "        lit(\" has a \"), \n",
    "        mpg.cyl, \n",
    "        lit(\" cylinder engine\") \n",
    "    ).alias(\"vehicle_cylinder_desc\")\n",
    ").show(5, truncate=False)"
   ]
  },
  {
   "cell_type": "markdown",
   "metadata": {},
   "source": [
    "### 2-b. Transform the trans column so that it only contains either manual or auto.\n",
    "- This can be done in many ways:\n",
    "    - `regexp_extract`\n",
    "    - `regexp_replace`\n",
    "    - `when`"
   ]
  },
  {
   "cell_type": "code",
   "execution_count": 20,
   "metadata": {},
   "outputs": [
    {
     "name": "stdout",
     "output_type": "stream",
     "text": [
      "+----------+\n",
      "|     trans|\n",
      "+----------+\n",
      "|  auto(l5)|\n",
      "|manual(m5)|\n",
      "|manual(m6)|\n",
      "|  auto(av)|\n",
      "|  auto(l5)|\n",
      "+----------+\n",
      "only showing top 5 rows\n",
      "\n"
     ]
    }
   ],
   "source": [
    "mpg.select(col(\"trans\")).show(5)"
   ]
  },
  {
   "cell_type": "code",
   "execution_count": 45,
   "metadata": {},
   "outputs": [
    {
     "name": "stdout",
     "output_type": "stream",
     "text": [
      "+----------+------------+--------------+--------------+-----------+\n",
      "|     trans|transmission|regexp_extract|regexp_replace|when + like|\n",
      "+----------+------------+--------------+--------------+-----------+\n",
      "|  auto(l5)|        auto|          auto|          auto|       auto|\n",
      "|manual(m5)|      manual|        manual|        manual|     manual|\n",
      "|manual(m6)|      manual|        manual|        manual|     manual|\n",
      "|  auto(av)|        auto|          auto|          auto|       auto|\n",
      "|  auto(l5)|        auto|          auto|          auto|       auto|\n",
      "|manual(m5)|      manual|        manual|        manual|     manual|\n",
      "|  auto(av)|        auto|          auto|          auto|       auto|\n",
      "|manual(m5)|      manual|        manual|        manual|     manual|\n",
      "|  auto(l5)|        auto|          auto|          auto|       auto|\n",
      "|manual(m6)|      manual|        manual|        manual|     manual|\n",
      "|  auto(s6)|        auto|          auto|          auto|       auto|\n",
      "|  auto(l5)|        auto|          auto|          auto|       auto|\n",
      "|manual(m5)|      manual|        manual|        manual|     manual|\n",
      "|  auto(s6)|        auto|          auto|          auto|       auto|\n",
      "|manual(m6)|      manual|        manual|        manual|     manual|\n",
      "|  auto(l5)|        auto|          auto|          auto|       auto|\n",
      "|  auto(s6)|        auto|          auto|          auto|       auto|\n",
      "|  auto(s6)|        auto|          auto|          auto|       auto|\n",
      "|  auto(l4)|        auto|          auto|          auto|       auto|\n",
      "|  auto(l4)|        auto|          auto|          auto|       auto|\n",
      "+----------+------------+--------------+--------------+-----------+\n",
      "only showing top 20 rows\n",
      "\n"
     ]
    }
   ],
   "source": [
    "mpg.select(\n",
    "    col(\"trans\"), \n",
    "    regexp_extract(\"trans\", r\"^([a-z]*)\", 1).alias(\"transmission\"), \n",
    "    regexp_extract(\"trans\", r\"^(\\w+)\\(\", 1).alias(\"regexp_extract\"),\n",
    "    regexp_replace(\"trans\", r\"\\(.+$\", \"\").alias(\"regexp_replace\"),\n",
    "    when(mpg.trans.like(\"auto%\"), \"auto\") # Let us specify a value to produce under certain condition\n",
    "    .otherwise(\"manual\").alias(\"when + like\")\n",
    "    \n",
    ").show()"
   ]
  },
  {
   "cell_type": "code",
   "execution_count": 43,
   "metadata": {},
   "outputs": [],
   "source": [
    "import re\n",
    "\n",
    "def trans(string):\n",
    "    regexp = r'^(\\w+)\\('\n",
    "    return re.search(regexp, string)"
   ]
  },
  {
   "cell_type": "code",
   "execution_count": 44,
   "metadata": {},
   "outputs": [
    {
     "data": {
      "text/plain": [
       "<re.Match object; span=(0, 7), match='manual('>"
      ]
     },
     "execution_count": 44,
     "metadata": {},
     "output_type": "execute_result"
    }
   ],
   "source": [
    "trans(\"manual(m5)\")"
   ]
  },
  {
   "cell_type": "markdown",
   "metadata": {},
   "source": [
    "### Load the `tips` dataset as a spark dataframe"
   ]
  },
  {
   "cell_type": "code",
   "execution_count": 5,
   "metadata": {},
   "outputs": [
    {
     "name": "stdout",
     "output_type": "stream",
     "text": [
      "root\n",
      " |-- total_bill: double (nullable = true)\n",
      " |-- tip: double (nullable = true)\n",
      " |-- sex: string (nullable = true)\n",
      " |-- smoker: string (nullable = true)\n",
      " |-- day: string (nullable = true)\n",
      " |-- time: string (nullable = true)\n",
      " |-- size: long (nullable = true)\n",
      "\n",
      "+----------+----+------+------+---+------+----+\n",
      "|total_bill| tip|   sex|smoker|day|  time|size|\n",
      "+----------+----+------+------+---+------+----+\n",
      "|     16.99|1.01|Female|    No|Sun|Dinner|   2|\n",
      "|     10.34|1.66|  Male|    No|Sun|Dinner|   3|\n",
      "|     21.01| 3.5|  Male|    No|Sun|Dinner|   3|\n",
      "|     23.68|3.31|  Male|    No|Sun|Dinner|   2|\n",
      "|     24.59|3.61|Female|    No|Sun|Dinner|   4|\n",
      "+----------+----+------+------+---+------+----+\n",
      "only showing top 5 rows\n",
      "\n"
     ]
    }
   ],
   "source": [
    "# Load the tips dataset as a spark dataframe\n",
    "\n",
    "tips = spark.createDataFrame(data('tips'))\n",
    "\n",
    "# Print the schema\n",
    "tips.printSchema()\n",
    "\n",
    "# Print the first 5 rows\n",
    "tips.show(5)"
   ]
  },
  {
   "cell_type": "markdown",
   "metadata": {},
   "source": [
    "### 3-a. What percentage of observations are smokers?"
   ]
  },
  {
   "cell_type": "code",
   "execution_count": 39,
   "metadata": {},
   "outputs": [
    {
     "name": "stdout",
     "output_type": "stream",
     "text": [
      "+------+----------+\n",
      "|smoker|percentage|\n",
      "+------+----------+\n",
      "|  null|      100%|\n",
      "|    No|       62%|\n",
      "|   Yes|       38%|\n",
      "+------+----------+\n",
      "\n"
     ]
    }
   ],
   "source": [
    "# Use roll up\n",
    "\n",
    "(\n",
    "    tips.rollup('smoker')\n",
    "        .count()\n",
    "        .sort('smoker')\n",
    "        .select(\n",
    "            col(\"smoker\"),\n",
    "            (concat(\n",
    "                round(col(\"count\")/244*100, 0).cast(\"int\"), \n",
    "                lit(\"%\")).alias(\"percentage\")\n",
    "            )\n",
    "        )\n",
    ").show()"
   ]
  },
  {
   "cell_type": "code",
   "execution_count": 35,
   "metadata": {},
   "outputs": [
    {
     "name": "stdout",
     "output_type": "stream",
     "text": [
      "+------+-----+----------+\n",
      "|smoker|count|percentage|\n",
      "+------+-----+----------+\n",
      "|    No|  151|       62%|\n",
      "|   Yes|   93|       38%|\n",
      "+------+-----+----------+\n",
      "\n"
     ]
    }
   ],
   "source": [
    "# Use groupby\n",
    "\n",
    "(\n",
    "    tips.groupby(\"smoker\")\n",
    "        .count()\n",
    "        .withColumn(\n",
    "            \"percentage\", # Add a new column named 'percentage'\n",
    "            concat(\n",
    "                round(col(\"count\") / tips.count() * 100, 0).cast(\"int\"),\n",
    "                lit(\"%\")\n",
    "            )\n",
    "        )\n",
    ").show()"
   ]
  },
  {
   "cell_type": "markdown",
   "metadata": {},
   "source": [
    "### 3-b. Create a column that contains the tip percentage"
   ]
  },
  {
   "cell_type": "code",
   "execution_count": 23,
   "metadata": {
    "scrolled": true
   },
   "outputs": [
    {
     "name": "stdout",
     "output_type": "stream",
     "text": [
      "+----------+----+-------------------+\n",
      "|total_bill| tip|         percentage|\n",
      "+----------+----+-------------------+\n",
      "|     16.99|1.01|0.05944673337257211|\n",
      "|     10.34|1.66|0.16054158607350097|\n",
      "|     21.01| 3.5|0.16658733936220846|\n",
      "|     23.68|3.31| 0.1397804054054054|\n",
      "|     24.59|3.61|0.14680764538430255|\n",
      "+----------+----+-------------------+\n",
      "only showing top 5 rows\n",
      "\n"
     ]
    }
   ],
   "source": [
    "tips.select(\n",
    "    tips.total_bill, \n",
    "    tips.tip,\n",
    "    (tips.tip/tips.total_bill).alias(\"percentage\")\n",
    ").show(5)"
   ]
  },
  {
   "cell_type": "code",
   "execution_count": 40,
   "metadata": {},
   "outputs": [
    {
     "name": "stdout",
     "output_type": "stream",
     "text": [
      "+----------+----+------+------+---+------+----+-------------------+\n",
      "|total_bill| tip|   sex|smoker|day|  time|size|     tip_percentage|\n",
      "+----------+----+------+------+---+------+----+-------------------+\n",
      "|     16.99|1.01|Female|    No|Sun|Dinner|   2|0.05944673337257211|\n",
      "|     10.34|1.66|  Male|    No|Sun|Dinner|   3|0.16054158607350097|\n",
      "|     21.01| 3.5|  Male|    No|Sun|Dinner|   3|0.16658733936220846|\n",
      "|     23.68|3.31|  Male|    No|Sun|Dinner|   2| 0.1397804054054054|\n",
      "|     24.59|3.61|Female|    No|Sun|Dinner|   4|0.14680764538430255|\n",
      "+----------+----+------+------+---+------+----+-------------------+\n",
      "only showing top 5 rows\n",
      "\n"
     ]
    }
   ],
   "source": [
    "tips.withColumn(\n",
    "    \"tip_percentage\",\n",
    "    col(\"tip\") / col(\"total_bill\")\n",
    ").show(5)"
   ]
  },
  {
   "cell_type": "markdown",
   "metadata": {},
   "source": [
    "### 3-c. Calculate the average tip percentage for each combination of sex and smoker."
   ]
  },
  {
   "cell_type": "code",
   "execution_count": 32,
   "metadata": {},
   "outputs": [
    {
     "name": "stdout",
     "output_type": "stream",
     "text": [
      "+------+------+-------------------+\n",
      "|   sex|smoker|         percentage|\n",
      "+------+------+-------------------+\n",
      "|  Male|    No| 0.1606687151291298|\n",
      "|  Male|   Yes|0.15277117520248512|\n",
      "|Female|    No| 0.1569209707691836|\n",
      "|Female|   Yes|0.18215035269941032|\n",
      "+------+------+-------------------+\n",
      "\n"
     ]
    }
   ],
   "source": [
    "# groupby alone\n",
    "\n",
    "(\n",
    "    tips.groupby(tips.sex, tips.smoker)\n",
    "        .agg((mean(col(\"tip\")/col(\"total_bill\")).alias(\"percentage\")))\n",
    ").show()"
   ]
  },
  {
   "cell_type": "code",
   "execution_count": 42,
   "metadata": {},
   "outputs": [
    {
     "name": "stdout",
     "output_type": "stream",
     "text": [
      "+------+------------------+-------------------+\n",
      "|   sex|                No|                Yes|\n",
      "+------+------------------+-------------------+\n",
      "|Female|0.1569209707691836|0.18215035269941032|\n",
      "|  Male|0.1606687151291298|0.15277117520248512|\n",
      "+------+------------------+-------------------+\n",
      "\n"
     ]
    }
   ],
   "source": [
    "# groupby + pivot\n",
    "\n",
    "(\n",
    "    tips.withColumn(\"tip_percentage\", tips.tip/tips.total_bill)\n",
    "    .groupby('sex')\n",
    "    .pivot(\"smoker\")\n",
    "    .agg(mean(\"tip_percentage\"))\n",
    ").show(5)"
   ]
  },
  {
   "cell_type": "code",
   "execution_count": null,
   "metadata": {},
   "outputs": [],
   "source": []
  }
 ],
 "metadata": {
  "kernelspec": {
   "display_name": "Python 3",
   "language": "python",
   "name": "python3"
  },
  "language_info": {
   "codemirror_mode": {
    "name": "ipython",
    "version": 3
   },
   "file_extension": ".py",
   "mimetype": "text/x-python",
   "name": "python",
   "nbconvert_exporter": "python",
   "pygments_lexer": "ipython3",
   "version": "3.7.6"
  }
 },
 "nbformat": 4,
 "nbformat_minor": 4
}
